{
 "cells": [
  {
   "cell_type": "code",
   "execution_count": 1,
   "metadata": {},
   "outputs": [],
   "source": [
    "from email.mime import audio\n",
    "import numpy as np\n",
    "import os\n",
    "import spotipy\n",
    "from spotipy.oauth2 import SpotifyOAuth,SpotifyClientCredentials\n",
    "import tqdm\n",
    "import pandas as pd\n",
    "import shutil"
   ]
  },
  {
   "cell_type": "code",
   "execution_count": 143,
   "metadata": {},
   "outputs": [],
   "source": [
    "df1 = pd.read_csv('./archive/DEAM_Annotations/annotations/annotations averaged per song/song_level/static_annotations_averaged_songs_1_2000.csv')\n",
    "df2 = pd.read_csv('./archive/DEAM_Annotations/annotations/annotations averaged per song/song_level/static_annotations_averaged_songs_2000_2058.csv')[['song_id', ' valence_mean', ' valence_std',' arousal_mean',' arousal_std']]"
   ]
  },
  {
   "cell_type": "code",
   "execution_count": 147,
   "metadata": {},
   "outputs": [],
   "source": [
    "def va_to_cat(r):\n",
    "    if r[' valence_mean']>5: \n",
    "        return 'High Valence'\n",
    "    else:\n",
    "        return 'Low Valence'"
   ]
  },
  {
   "cell_type": "code",
   "execution_count": 148,
   "metadata": {},
   "outputs": [],
   "source": [
    "def ar_to_cat(r):\n",
    "    if r[' arousal_mean']>5: \n",
    "        return 'High Arousal'\n",
    "    else:\n",
    "        return 'Low Arousal'"
   ]
  },
  {
   "cell_type": "code",
   "execution_count": 149,
   "metadata": {},
   "outputs": [],
   "source": [
    "df1['valence_category'] = df1.apply(lambda r: va_to_cat(r),axis = 1)\n",
    "df2['valence_category'] = df2.apply(lambda r: va_to_cat(r),axis = 1)"
   ]
  },
  {
   "cell_type": "code",
   "execution_count": 150,
   "metadata": {},
   "outputs": [],
   "source": [
    "df1['arousal_category'] = df1.apply(lambda r: ar_to_cat(r),axis = 1)\n",
    "df2['arousal_category'] = df2.apply(lambda r: ar_to_cat(r),axis = 1)"
   ]
  },
  {
   "cell_type": "code",
   "execution_count": 151,
   "metadata": {},
   "outputs": [
    {
     "data": {
      "text/plain": [
       "Low Arousal     410\n",
       "High Arousal    341\n",
       "Name: arousal_category, dtype: int64"
      ]
     },
     "execution_count": 151,
     "metadata": {},
     "output_type": "execute_result"
    }
   ],
   "source": [
    "df1.arousal_category.value_counts()"
   ]
  },
  {
   "cell_type": "code",
   "execution_count": 152,
   "metadata": {},
   "outputs": [],
   "source": [
    "df_hvha = df1[(df1.arousal_category == 'High Arousal') & (df1.valence_category == 'High Valence')]\n",
    "df_hvla = df1[(df1.arousal_category == 'Low Arousal') & (df1.valence_category == 'High Valence')]\n",
    "df_lvha = df1[(df1.arousal_category == 'High Arousal') & (df1.valence_category == 'Low Valence')]\n",
    "df_lvla = df1[(df1.arousal_category == 'Low Arousal') & (df1.valence_category == 'Low Valence')]"
   ]
  },
  {
   "cell_type": "code",
   "execution_count": 153,
   "metadata": {},
   "outputs": [],
   "source": [
    "idx_hvha = df_hvha.song_id.to_numpy()\n",
    "idx_hvla = df_hvla.song_id.to_numpy()\n",
    "idx_lvla = df_lvla.song_id.to_numpy()\n",
    "idx_lvha = df_lvha.song_id.to_numpy()"
   ]
  },
  {
   "cell_type": "code",
   "execution_count": 154,
   "metadata": {},
   "outputs": [],
   "source": [
    "np.random.shuffle(idx_hvha)\n",
    "np.random.shuffle(idx_hvla)\n",
    "np.random.shuffle(idx_lvha)\n",
    "np.random.shuffle(idx_lvla)"
   ]
  },
  {
   "cell_type": "code",
   "execution_count": 155,
   "metadata": {},
   "outputs": [],
   "source": [
    "selected = np.concatenate([idx_hvha[:10],idx_hvla[:10],idx_lvha[:10],idx_lvla[:10]])"
   ]
  },
  {
   "cell_type": "code",
   "execution_count": 156,
   "metadata": {},
   "outputs": [
    {
     "name": "stdout",
     "output_type": "stream",
     "text": [
      "[ 320  431 1806 1742 1895 1214  302 1216 1849  355 1934 1477 1402  122\n",
      " 1310  726 1579 1288  729   19  597 1247 1636  668 1991  628 1556  489\n",
      "   41 1547  116  499  341  234 1602 1056 1407   13  521  301]\n"
     ]
    }
   ],
   "source": [
    "print(selected)"
   ]
  },
  {
   "cell_type": "code",
   "execution_count": 157,
   "metadata": {},
   "outputs": [],
   "source": [
    "df2_new = pd.concat([df2,df1[df1.song_id.isin(selected)]])\n",
    "df1_new = df1[~df1.song_id.isin(selected)]"
   ]
  },
  {
   "cell_type": "code",
   "execution_count": 158,
   "metadata": {},
   "outputs": [
    {
     "data": {
      "text/plain": [
       "Index(['song_id', ' valence_mean', ' valence_std', ' arousal_mean',\n",
       "       ' arousal_std', 'valence_category', 'arousal_category'],\n",
       "      dtype='object')"
      ]
     },
     "execution_count": 158,
     "metadata": {},
     "output_type": "execute_result"
    }
   ],
   "source": [
    "df2_new.columns"
   ]
  },
  {
   "cell_type": "code",
   "execution_count": 133,
   "metadata": {},
   "outputs": [
    {
     "data": {
      "text/plain": [
       "Low Arousal     390\n",
       "High Arousal    321\n",
       "Name: arousal_category, dtype: int64"
      ]
     },
     "execution_count": 133,
     "metadata": {},
     "output_type": "execute_result"
    }
   ],
   "source": [
    "df1_new.arousal_category.value_counts()"
   ]
  },
  {
   "cell_type": "code",
   "execution_count": 135,
   "metadata": {},
   "outputs": [
    {
     "data": {
      "text/plain": [
       "Low Arousal     41\n",
       "High Arousal    34\n",
       "Name: arousal_category, dtype: int64"
      ]
     },
     "execution_count": 135,
     "metadata": {},
     "output_type": "execute_result"
    }
   ],
   "source": [
    "df2_new.arousal_category.value_counts()"
   ]
  },
  {
   "cell_type": "code",
   "execution_count": 159,
   "metadata": {},
   "outputs": [],
   "source": [
    "df2_new = df2_new.sort_values(by='song_id')"
   ]
  },
  {
   "cell_type": "code",
   "execution_count": 160,
   "metadata": {},
   "outputs": [],
   "source": [
    "df1_new.to_csv('./medieval_vocal_train.csv',index = False)\n",
    "df2_new.to_csv('./medieval_vocal_test.csv',index = False)"
   ]
  },
  {
   "cell_type": "code",
   "execution_count": 2,
   "metadata": {},
   "outputs": [],
   "source": [
    "data = pd.read_csv('./medieval_vocal_train.csv')\n",
    "data2 = pd.read_csv('./medieval_vocal_test.csv')"
   ]
  }
 ],
 "metadata": {
  "kernelspec": {
   "display_name": "Python 3.8.8 ('base')",
   "language": "python",
   "name": "python3"
  },
  "language_info": {
   "codemirror_mode": {
    "name": "ipython",
    "version": 3
   },
   "file_extension": ".py",
   "mimetype": "text/x-python",
   "name": "python",
   "nbconvert_exporter": "python",
   "pygments_lexer": "ipython3",
   "version": "3.8.8"
  },
  "orig_nbformat": 4,
  "vscode": {
   "interpreter": {
    "hash": "cceb2fdb6d0d49712663a09c62496ac932ce62398c41e486b12dcc6178307130"
   }
  }
 },
 "nbformat": 4,
 "nbformat_minor": 2
}

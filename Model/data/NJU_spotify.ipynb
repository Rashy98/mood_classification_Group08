{
 "cells": [
  {
   "cell_type": "code",
   "execution_count": 5,
   "metadata": {},
   "outputs": [],
   "source": [
    "from email.mime import audio\n",
    "import numpy as np\n",
    "import os\n",
    "import spotipy\n",
    "from spotipy.oauth2 import SpotifyOAuth,SpotifyClientCredentials\n",
    "import tqdm\n",
    "import pandas as pd"
   ]
  },
  {
   "cell_type": "code",
   "execution_count": 3,
   "metadata": {},
   "outputs": [],
   "source": [
    "def get_name_and_artist_from_txt(txt_file):\n",
    "    song_dict = {}\n",
    "    with open(txt_file,encoding=\"utf8\", errors='ignore') as f:\n",
    "        for line in f:\n",
    "            splits = line.split(\":\")\n",
    "            if len(splits)< 4:\n",
    "                continue\n",
    "            audioid =splits[0]\n",
    "            song_name = splits[1]\n",
    "            artist = splits[2]\n",
    "            duration = splits[3].rstrip()\n",
    "            song_dict[audioid] = {\n",
    "                'id': audioid,\n",
    "                'name': song_name,\n",
    "                'artist': artist,\n",
    "                'duration':duration\n",
    "            }\n",
    "    return song_dict"
   ]
  },
  {
   "cell_type": "code",
   "execution_count": 5,
   "metadata": {},
   "outputs": [],
   "source": [
    "sad_train_dicts = get_name_and_artist_from_txt('./NJU_MusicMood_v1.0/Sad/Train/info.txt')\n",
    "sad_test_dicts = get_name_and_artist_from_txt('./NJU_MusicMood_v1.0/Sad/Test/info.txt')\n",
    "\n",
    "angry_train_dicts = get_name_and_artist_from_txt('./NJU_MusicMood_v1.0/Angry/Train/info.txt')\n",
    "angry_test_dicts = get_name_and_artist_from_txt('./NJU_MusicMood_v1.0/Angry/Test/info.txt')\n",
    "\n",
    "relax_train_dicts = get_name_and_artist_from_txt('./NJU_MusicMood_v1.0/Relaxed/Train/info.txt')\n",
    "relax_test_dicts = get_name_and_artist_from_txt('./NJU_MusicMood_v1.0/Relaxed/Test/info.txt')\n",
    "\n",
    "happy_train_dicts = get_name_and_artist_from_txt('./NJU_MusicMood_v1.0/Happy/Train/info.txt')\n",
    "happy_test_dicts = get_name_and_artist_from_txt('./NJU_MusicMood_v1.0/Happy/Test/info.txt')"
   ]
  },
  {
   "cell_type": "markdown",
   "metadata": {},
   "source": []
  },
  {
   "cell_type": "code",
   "execution_count": 6,
   "metadata": {},
   "outputs": [],
   "source": [
    "def search_matching_song(sp,data):\n",
    "    track_tuples = []\n",
    "    track_results = sp.search(q=f\"track:{data['name']}, artist:{data['artist']}\", limit=1,offset=0)\n",
    "    if len(track_results['tracks']['items']) == 0:\n",
    "        track_tuples = (data['id'],'invalid')\n",
    "    else:\n",
    "       # print(data['name'])\n",
    "        #for t in track_results['tracks']['items']:\n",
    "        track_tuples = (data['id'],track_results['tracks']['items'][0]['id'])\n",
    "    return track_tuples"
   ]
  },
  {
   "cell_type": "code",
   "execution_count": 6,
   "metadata": {},
   "outputs": [],
   "source": [
    "sp = spotipy.Spotify(auth_manager=SpotifyClientCredentials(client_id=\"0eee6e2465a94368ad5ec7450a2fd62a\",\n",
    "                                               client_secret=\"35113bd096574a4dae4381bc4090f7ba\"))"
   ]
  },
  {
   "cell_type": "code",
   "execution_count": 8,
   "metadata": {},
   "outputs": [],
   "source": [
    "def get_spotify_id(all_data):\n",
    "    track_list = []\n",
    "    for idx in all_data:\n",
    "        data = all_data[idx]\n",
    "        tracks = search_matching_song(sp,data)\n",
    "        track_list.append(tracks)\n",
    "    return track_list\n",
    "#  # List to store the URIs\n",
    "# for idx, (sId,data) in enumerate(a_test.items()):\n",
    "# # for idx,_ in tqdm(a_train[0:10].iterrows()):\n",
    "#     tracks = search_matching_song(sp,data)\n",
    "#     track_list.append(tracks)"
   ]
  },
  {
   "cell_type": "code",
   "execution_count": 9,
   "metadata": {},
   "outputs": [],
   "source": [
    "sad_test_list = get_spotify_id(sad_test_dicts)\n",
    "sad_train_list = get_spotify_id(sad_train_dicts)"
   ]
  },
  {
   "cell_type": "code",
   "execution_count": 10,
   "metadata": {},
   "outputs": [],
   "source": [
    "angry_test_list = get_spotify_id(angry_test_dicts)\n",
    "angry_train_list = get_spotify_id(angry_train_dicts)"
   ]
  },
  {
   "cell_type": "code",
   "execution_count": 11,
   "metadata": {},
   "outputs": [],
   "source": [
    "relaxed_test_list = get_spotify_id(relax_test_dicts)\n",
    "relaxed_train_list = get_spotify_id(relax_train_dicts)"
   ]
  },
  {
   "cell_type": "code",
   "execution_count": 12,
   "metadata": {},
   "outputs": [],
   "source": [
    "happy_train_list = get_spotify_id(happy_train_dicts)\n",
    "happy_test_list = get_spotify_id(happy_test_dicts)"
   ]
  },
  {
   "cell_type": "code",
   "execution_count": 13,
   "metadata": {},
   "outputs": [],
   "source": [
    "def gen_dataframde(id_list,data): #id, spotify id\n",
    "    new_dict = {'musicId':[],'spotifyId':[],'name':[],'artist':[],'duration':[]}\n",
    "    for (idx,sid) in id_list:\n",
    "       #print(int(idx),sid)\n",
    "        if sid == 'invalid':\n",
    "            continue\n",
    "        info = data[idx]\n",
    "        new_dict['musicId'].append(int(idx))\n",
    "        new_dict['spotifyId'].append(sid)\n",
    "        new_dict['name'].append(info['name'])\n",
    "        new_dict['artist'].append(info['artist'])\n",
    "        new_dict['duration'].append(info['duration'])\n",
    "    return pd.DataFrame.from_dict(new_dict)"
   ]
  },
  {
   "cell_type": "code",
   "execution_count": 14,
   "metadata": {},
   "outputs": [],
   "source": [
    "df_sad_test = gen_dataframde(sad_test_list,sad_test_dicts)\n",
    "df_sad_train = gen_dataframde(sad_train_list,sad_train_dicts)\n",
    "\n",
    "df_angry_test = gen_dataframde(angry_test_list,angry_test_dicts)\n",
    "df_angry_train = gen_dataframde(angry_train_list,angry_train_dicts)\n",
    "\n",
    "df_relaxed_test = gen_dataframde(relaxed_test_list,relax_test_dicts)\n",
    "df_relaxed_train = gen_dataframde(relaxed_train_list,relax_train_dicts)\n",
    "\n",
    "df_happy_test = gen_dataframde(happy_test_list,happy_test_dicts)\n",
    "df_happy_train = gen_dataframde(happy_train_list,happy_train_dicts)"
   ]
  },
  {
   "cell_type": "code",
   "execution_count": 16,
   "metadata": {},
   "outputs": [],
   "source": [
    "df_sad_test['emotion'] = 'Sad'\n",
    "df_sad_train['emotion'] = 'Sad'\n",
    "\n",
    "df_angry_test['emotion'] = 'Angry'\n",
    "df_angry_train['emotion'] = 'Angry'\n",
    "\n",
    "df_relaxed_test['emotion'] = 'Relaxed'\n",
    "df_relaxed_train['emotion'] = 'Relaxed'\n",
    "\n",
    "df_happy_test['emotion'] = 'Happy'\n",
    "df_happy_train['emotion'] = 'Happy'"
   ]
  },
  {
   "cell_type": "code",
   "execution_count": 71,
   "metadata": {},
   "outputs": [],
   "source": [
    "df_train = pd.concat([df_sad_train, df_angry_train,df_happy_train,df_relaxed_train])\n",
    "df_test = pd.concat([df_sad_test, df_angry_test,df_happy_test,df_relaxed_test])"
   ]
  },
  {
   "cell_type": "markdown",
   "metadata": {},
   "source": [
    "<h2>Reindex</h2>"
   ]
  },
  {
   "cell_type": "code",
   "execution_count": 72,
   "metadata": {},
   "outputs": [],
   "source": [
    "idx = np.arange(len(df_train))\n",
    "np.random.shuffle(idx)\n",
    "df_train = df_train.iloc[idx]\n",
    "df_train['NJU_idx'] = df_train['emotion'] +'_'+ df_train['musicId'].astype(str)\n",
    "df_train['musicId'] = np.arange(len(df_train))"
   ]
  },
  {
   "cell_type": "code",
   "execution_count": 73,
   "metadata": {},
   "outputs": [],
   "source": [
    "idx = np.arange(len(df_test))\n",
    "np.random.shuffle(idx)\n",
    "df_test = df_test.iloc[idx]\n",
    "df_test['NJU_idx'] = df_test['emotion'] +'_'+ df_test['musicId'].astype(str)\n",
    "df_test['musicId'] = np.arange(len(df_test))+len(df_train)"
   ]
  },
  {
   "cell_type": "code",
   "execution_count": 75,
   "metadata": {},
   "outputs": [],
   "source": [
    "df_train.to_csv('/Users/kexinzheng/Documents/class/5647/project/NJU_MusicMood_v1.0/train_reindex.csv',index = False)\n",
    "df_test.to_csv('./NJU_MusicMood_v1.0/test_reindex.csv',index = False)"
   ]
  },
  {
   "cell_type": "code",
   "execution_count": 26,
   "metadata": {},
   "outputs": [],
   "source": [
    "df_train.to_csv('./NJU_MusicMood_v1.0/train_all.csv',index=False)\n",
    "df_test.to_csv('./NJU_MusicMood_v1.0/test_all.csv',index=False)"
   ]
  },
  {
   "cell_type": "code",
   "execution_count": 50,
   "metadata": {},
   "outputs": [],
   "source": [
    "def segment_info_list(segs,track_info):\n",
    "    segs_list = []\n",
    "    for seg in segs:\n",
    "        seg_list = [track_info[0],track_info[1],track_info[2],track_info[3]]\n",
    "        seg_list.append(seg[\"start\"])\n",
    "        seg_list.append(seg[\"duration\"])\n",
    "        seg_list.append(seg[\"confidence\"])\n",
    "        seg_list.append(seg[\"loudness_start\"])\n",
    "        seg_list.append(seg[\"loudness_max\"])\n",
    "        seg_list.append(seg[\"loudness_max_time\"])\n",
    "        seg_list.append(seg[\"loudness_end\"])\n",
    "        seg_list.extend(seg[\"pitches\"])\n",
    "        seg_list.extend(seg[\"timbre\"])\n",
    "        segs_list.append(seg_list)\n",
    "    return segs_list\n",
    "    \n",
    "def get_audio_analysis(data):\n",
    "    spotifyID = data.spotifyId\n",
    "    audio_info = sp.audio_analysis(spotifyID)\n",
    "    audio_segs = audio_info['segments']\n",
    "    audio_trackinfo = audio_info['track']#\"analysis_sample_rate\" \"analysis_channels\"\"time_signature\"\"key\"\"mode\"\n",
    "    useful_info = []\n",
    "    useful_info.append(data.musicId)\n",
    "    useful_info.append(spotifyID)\n",
    "    useful_info.append(audio_trackinfo['analysis_sample_rate'])\n",
    "    useful_info.append(audio_trackinfo['analysis_channels'])\n",
    "    return segment_info_list(audio_segs,useful_info)"
   ]
  },
  {
   "cell_type": "code",
   "execution_count": 83,
   "metadata": {},
   "outputs": [],
   "source": [
    "def get_segment_info(data,sp):\n",
    "    total_segs = []\n",
    "    for idx,d in data.iterrows():\n",
    "        seg_info = get_audio_analysis(d)\n",
    "        total_segs.extend(seg_info)\n",
    "    return total_segs"
   ]
  },
  {
   "cell_type": "code",
   "execution_count": 84,
   "metadata": {},
   "outputs": [],
   "source": [
    "test_segments = get_segment_info(df_test,sp)"
   ]
  },
  {
   "cell_type": "code",
   "execution_count": 85,
   "metadata": {},
   "outputs": [],
   "source": [
    "df_test_segs = pd.DataFrame(test_segments, columns=['musicId','spotifyId','analysis_sample_rate','analysis_sample_channel',\n",
    "'start','duration','confidence',\n",
    "'loudness_start','loudness_max','loudness_max_time','loudness_end',\n",
    "'pitches_0','pitches_1','pitches_2','pitches_3','pitches_4','pitches_5',\n",
    "'pitches_6','pitches_7','pitches_8','pitches_9','pitches_10','pitches_11',\n",
    "'timbre_0','timbre_1','timbre_2','timbre_3','timbre_4','timbre_5','timbre_6',\n",
    "'timbre_7','timbre_8','timbre_9','timbre_10','timbre_11'])"
   ]
  },
  {
   "cell_type": "code",
   "execution_count": 65,
   "metadata": {},
   "outputs": [],
   "source": [
    "train_segments = get_segment_info(df_train,sp)"
   ]
  },
  {
   "cell_type": "code",
   "execution_count": 66,
   "metadata": {},
   "outputs": [],
   "source": [
    "df_test_segs = pd.DataFrame(test_segments, columns=['musicId','spotifyId','analysis_sample_rate','analysis_sample_channel',\n",
    "'start','duration','confidence',\n",
    "'loudness_start','loudness_max','loudness_max_time','loudness_end',\n",
    "'pitches_0','pitches_1','pitches_2','pitches_3','pitches_4','pitches_5',\n",
    "'pitches_6','pitches_7','pitches_8','pitches_9','pitches_10','pitches_11',\n",
    "'timbre_0','timbre_1','timbre_2','timbre_3','timbre_4','timbre_5','timbre_6',\n",
    "'timbre_7','timbre_8','timbre_9','timbre_10','timbre_11'])\n",
    "\n",
    "df_train_segs = pd.DataFrame(train_segments, columns=['musicId','spotifyId','analysis_sample_rate','analysis_sample_channel',\n",
    "'start','duration','confidence',\n",
    "'loudness_start','loudness_max','loudness_max_time','loudness_end',\n",
    "'pitches_0','pitches_1','pitches_2','pitches_3','pitches_4','pitches_5',\n",
    "'pitches_6','pitches_7','pitches_8','pitches_9','pitches_10','pitches_11',\n",
    "'timbre_0','timbre_1','timbre_2','timbre_3','timbre_4','timbre_5','timbre_6',\n",
    "'timbre_7','timbre_8','timbre_9','timbre_10','timbre_11'])"
   ]
  },
  {
   "cell_type": "code",
   "execution_count": 87,
   "metadata": {},
   "outputs": [],
   "source": [
    "df_test.head()\n",
    "df_test_segs.to_csv('./NJU_MusicMood_v1.0/test_segments.csv',index = False)"
   ]
  },
  {
   "cell_type": "code",
   "execution_count": 67,
   "metadata": {},
   "outputs": [],
   "source": [
    "df_test_segs.to_csv('./NJU_MusicMood_v1.0/test_segments.csv',index = False)\n",
    "df_train_segs.to_csv('./NJU_MusicMood_v1.0/train_segments.csv',index = False)"
   ]
  },
  {
   "cell_type": "code",
   "execution_count": 89,
   "metadata": {},
   "outputs": [
    {
     "name": "stdout",
     "output_type": "stream",
     "text": [
      "328 328\n",
      "320 320\n"
     ]
    }
   ],
   "source": [
    "print(len(df_train),len(df_train_segs.musicId.unique()))\n",
    "print(len(df_test),len(df_test_segs.musicId.unique()))"
   ]
  },
  {
   "cell_type": "code",
   "execution_count": 10,
   "metadata": {},
   "outputs": [],
   "source": [
    "def get_audio_features(spotifyID,sp):\n",
    "    #\"key\"\"mode\"\"acousticness\"\"energy\"\"danceability\"\"instrumentalness\"\"loudness\"\"tempo\"\"valence\"\n",
    "    features = ['key',\"mode\",\"energy\",\"danceability\",\"loudness\",\"tempo\",\"valence\"]\n",
    "    audio_info = sp.audio_features(spotifyID)[0]\n",
    "    audio_features = [spotifyID]\n",
    "    for f in features:\n",
    "        audio_features.append(audio_info[f])\n",
    "    return audio_features"
   ]
  },
  {
   "cell_type": "code",
   "execution_count": 23,
   "metadata": {},
   "outputs": [],
   "source": [
    "df = pd.read_csv('./NJU_MusicMood_v1.0/train_reindex.csv')\n",
    "df2 = pd.read_csv('./NJU_MusicMood_v1.0/test_reindex.csv')"
   ]
  },
  {
   "cell_type": "code",
   "execution_count": 12,
   "metadata": {},
   "outputs": [
    {
     "data": {
      "text/plain": [
       "Index(['musicId', 'spotifyId', 'name', 'artist', 'duration', 'emotion',\n",
       "       'NJU_idx'],\n",
       "      dtype='object')"
      ]
     },
     "execution_count": 12,
     "metadata": {},
     "output_type": "execute_result"
    }
   ],
   "source": [
    "df.columns"
   ]
  },
  {
   "cell_type": "code",
   "execution_count": 20,
   "metadata": {},
   "outputs": [],
   "source": [
    "all_feat = []\n",
    "for i in range(len(df)):\n",
    "    feats = get_audio_features(df.spotifyId[i],sp)\n",
    "    all_feat.append(feats)"
   ]
  },
  {
   "cell_type": "code",
   "execution_count": 24,
   "metadata": {},
   "outputs": [],
   "source": [
    "for i in range(len(df2)):\n",
    "    feats = get_audio_features(df2.spotifyId[i],sp)\n",
    "    all_feat.append(feats)"
   ]
  },
  {
   "cell_type": "code",
   "execution_count": 27,
   "metadata": {},
   "outputs": [],
   "source": [
    "df_total = pd.concat((df,df2),axis=0)"
   ]
  },
  {
   "cell_type": "code",
   "execution_count": 29,
   "metadata": {},
   "outputs": [
    {
     "data": {
      "text/html": [
       "<div>\n",
       "<style scoped>\n",
       "    .dataframe tbody tr th:only-of-type {\n",
       "        vertical-align: middle;\n",
       "    }\n",
       "\n",
       "    .dataframe tbody tr th {\n",
       "        vertical-align: top;\n",
       "    }\n",
       "\n",
       "    .dataframe thead th {\n",
       "        text-align: right;\n",
       "    }\n",
       "</style>\n",
       "<table border=\"1\" class=\"dataframe\">\n",
       "  <thead>\n",
       "    <tr style=\"text-align: right;\">\n",
       "      <th></th>\n",
       "      <th>musicId</th>\n",
       "      <th>spotifyId</th>\n",
       "      <th>name</th>\n",
       "      <th>artist</th>\n",
       "      <th>duration</th>\n",
       "      <th>emotion</th>\n",
       "      <th>NJU_idx</th>\n",
       "    </tr>\n",
       "  </thead>\n",
       "  <tbody>\n",
       "    <tr>\n",
       "      <th>317</th>\n",
       "      <td>645</td>\n",
       "      <td>6iq27lWBX3zvaX1ank9M2V</td>\n",
       "      <td>Nothing Compares</td>\n",
       "      <td>Pixie Lott</td>\n",
       "      <td>217</td>\n",
       "      <td>Sad</td>\n",
       "      <td>Sad_28</td>\n",
       "    </tr>\n",
       "    <tr>\n",
       "      <th>318</th>\n",
       "      <td>646</td>\n",
       "      <td>5Om4eWWZh9j05pEQVdxQ8b</td>\n",
       "      <td>Sad News</td>\n",
       "      <td>Chris Garneau</td>\n",
       "      <td>364</td>\n",
       "      <td>Relaxed</td>\n",
       "      <td>Relaxed_39</td>\n",
       "    </tr>\n",
       "    <tr>\n",
       "      <th>319</th>\n",
       "      <td>647</td>\n",
       "      <td>3dKFxCpVtK3g9KAB8S1FwY</td>\n",
       "      <td>Never Know</td>\n",
       "      <td>Jack Johnson</td>\n",
       "      <td>212</td>\n",
       "      <td>Happy</td>\n",
       "      <td>Happy_34</td>\n",
       "    </tr>\n",
       "  </tbody>\n",
       "</table>\n",
       "</div>"
      ],
      "text/plain": [
       "     musicId               spotifyId              name         artist  \\\n",
       "317      645  6iq27lWBX3zvaX1ank9M2V  Nothing Compares     Pixie Lott   \n",
       "318      646  5Om4eWWZh9j05pEQVdxQ8b          Sad News  Chris Garneau   \n",
       "319      647  3dKFxCpVtK3g9KAB8S1FwY        Never Know   Jack Johnson   \n",
       "\n",
       "    duration  emotion     NJU_idx  \n",
       "317      217      Sad      Sad_28  \n",
       "318      364  Relaxed  Relaxed_39  \n",
       "319      212    Happy    Happy_34  "
      ]
     },
     "execution_count": 29,
     "metadata": {},
     "output_type": "execute_result"
    }
   ],
   "source": [
    "df_total.iloc[-3:].head()"
   ]
  },
  {
   "cell_type": "code",
   "execution_count": 36,
   "metadata": {},
   "outputs": [],
   "source": [
    "#d = {'profile_id': i, 'listing_id': profiles[i], 'view_time': view_times[i]}\n",
    "feat = all_feat[0]\n",
    "final_df = []\n",
    "for i in range(len(all_feat)):\n",
    "    feat = all_feat[i]\n",
    "    d = {'musicId':i,'spotifyId':feat[0],'key':feat[1],\"mode\":feat[2],\"energy\":feat[3],\"danceability\":feat[4],\"loudness\":feat[5],\"tempo\":feat[6]}\n",
    "    td = pd.DataFrame(data=d,index=[i])\n",
    "    final_df.append(td)\n",
    "result = pd.concat(final_df)"
   ]
  },
  {
   "cell_type": "code",
   "execution_count": 37,
   "metadata": {},
   "outputs": [
    {
     "data": {
      "text/html": [
       "<div>\n",
       "<style scoped>\n",
       "    .dataframe tbody tr th:only-of-type {\n",
       "        vertical-align: middle;\n",
       "    }\n",
       "\n",
       "    .dataframe tbody tr th {\n",
       "        vertical-align: top;\n",
       "    }\n",
       "\n",
       "    .dataframe thead th {\n",
       "        text-align: right;\n",
       "    }\n",
       "</style>\n",
       "<table border=\"1\" class=\"dataframe\">\n",
       "  <thead>\n",
       "    <tr style=\"text-align: right;\">\n",
       "      <th></th>\n",
       "      <th>musicId</th>\n",
       "      <th>spotifyId</th>\n",
       "      <th>key</th>\n",
       "      <th>mode</th>\n",
       "      <th>energy</th>\n",
       "      <th>danceability</th>\n",
       "      <th>loudness</th>\n",
       "      <th>tempo</th>\n",
       "    </tr>\n",
       "  </thead>\n",
       "  <tbody>\n",
       "    <tr>\n",
       "      <th>0</th>\n",
       "      <td>0</td>\n",
       "      <td>7Kpv6QtVDSNBJYTgwUTOAu</td>\n",
       "      <td>10</td>\n",
       "      <td>1</td>\n",
       "      <td>0.448</td>\n",
       "      <td>0.634</td>\n",
       "      <td>-8.468</td>\n",
       "      <td>121.933</td>\n",
       "    </tr>\n",
       "    <tr>\n",
       "      <th>1</th>\n",
       "      <td>1</td>\n",
       "      <td>35SJCzSCA6RFY7VysNNN2i</td>\n",
       "      <td>1</td>\n",
       "      <td>0</td>\n",
       "      <td>0.575</td>\n",
       "      <td>0.650</td>\n",
       "      <td>-5.604</td>\n",
       "      <td>81.693</td>\n",
       "    </tr>\n",
       "    <tr>\n",
       "      <th>2</th>\n",
       "      <td>2</td>\n",
       "      <td>3vIVCdRx0jaxegLrtuGYvH</td>\n",
       "      <td>2</td>\n",
       "      <td>1</td>\n",
       "      <td>0.722</td>\n",
       "      <td>0.628</td>\n",
       "      <td>-5.693</td>\n",
       "      <td>118.004</td>\n",
       "    </tr>\n",
       "    <tr>\n",
       "      <th>3</th>\n",
       "      <td>3</td>\n",
       "      <td>4KacUpvbA3Mfo05gttTjhN</td>\n",
       "      <td>9</td>\n",
       "      <td>1</td>\n",
       "      <td>0.914</td>\n",
       "      <td>0.402</td>\n",
       "      <td>-5.215</td>\n",
       "      <td>196.505</td>\n",
       "    </tr>\n",
       "    <tr>\n",
       "      <th>4</th>\n",
       "      <td>4</td>\n",
       "      <td>0GgN4MhR5GKn5IcKN0e0rG</td>\n",
       "      <td>4</td>\n",
       "      <td>1</td>\n",
       "      <td>0.515</td>\n",
       "      <td>0.457</td>\n",
       "      <td>-4.310</td>\n",
       "      <td>74.984</td>\n",
       "    </tr>\n",
       "  </tbody>\n",
       "</table>\n",
       "</div>"
      ],
      "text/plain": [
       "   musicId               spotifyId  key  mode  energy  danceability  loudness  \\\n",
       "0        0  7Kpv6QtVDSNBJYTgwUTOAu   10     1   0.448         0.634    -8.468   \n",
       "1        1  35SJCzSCA6RFY7VysNNN2i    1     0   0.575         0.650    -5.604   \n",
       "2        2  3vIVCdRx0jaxegLrtuGYvH    2     1   0.722         0.628    -5.693   \n",
       "3        3  4KacUpvbA3Mfo05gttTjhN    9     1   0.914         0.402    -5.215   \n",
       "4        4  0GgN4MhR5GKn5IcKN0e0rG    4     1   0.515         0.457    -4.310   \n",
       "\n",
       "     tempo  \n",
       "0  121.933  \n",
       "1   81.693  \n",
       "2  118.004  \n",
       "3  196.505  \n",
       "4   74.984  "
      ]
     },
     "execution_count": 37,
     "metadata": {},
     "output_type": "execute_result"
    }
   ],
   "source": [
    "result.head()"
   ]
  },
  {
   "cell_type": "code",
   "execution_count": 39,
   "metadata": {},
   "outputs": [],
   "source": [
    "for i in range(len(df_total)):\n",
    "    if df_total.iloc[i].spotifyId != result.iloc[i].spotifyId:\n",
    "        print(123)"
   ]
  },
  {
   "cell_type": "code",
   "execution_count": 40,
   "metadata": {},
   "outputs": [],
   "source": [
    "result.to_csv('./nju_spotify_features.csv',index=False)"
   ]
  },
  {
   "cell_type": "code",
   "execution_count": 41,
   "metadata": {},
   "outputs": [],
   "source": [
    "train_seg = pd.read_csv('./NJU_MusicMood_v1.0/train_segments.csv')\n",
    "test_seg = pd.read_csv('./NJU_MusicMood_v1.0/test_segments.csv')"
   ]
  },
  {
   "cell_type": "code",
   "execution_count": 42,
   "metadata": {},
   "outputs": [],
   "source": [
    "dd = pd.concat((train_seg,test_seg),axis=0)"
   ]
  },
  {
   "cell_type": "code",
   "execution_count": 44,
   "metadata": {},
   "outputs": [],
   "source": [
    "dd.to_csv('./NJU_MusicMood_v1.0/nju_segment_features.csv',index=False)"
   ]
  },
  {
   "cell_type": "code",
   "execution_count": 54,
   "metadata": {},
   "outputs": [],
   "source": [
    "def emotion_to_arousal(r):\n",
    "    if r.emotion == 'Relaxed' or r.emotion == 'Sad':\n",
    "        return 'Low Arousal'\n",
    "    else:\n",
    "        return 'High Arousal'\n",
    "\n",
    "def emotion_to_valence(r):\n",
    "    if r.emotion == 'Angry' or r.emotion == 'Sad':\n",
    "        return 'Low Valence'\n",
    "    else:\n",
    "        return 'High Valence'"
   ]
  },
  {
   "cell_type": "code",
   "execution_count": 49,
   "metadata": {},
   "outputs": [],
   "source": [
    "df_total_final = df_total.copy()\n",
    "df_total_final['arousal'] = df_total_final.apply(lambda r: emotion_to_arousal(r),axis=1)"
   ]
  },
  {
   "cell_type": "code",
   "execution_count": 55,
   "metadata": {},
   "outputs": [],
   "source": [
    "df_total_final['valence'] = df_total_final.apply(lambda r: emotion_to_valence(r),axis=1)"
   ]
  },
  {
   "cell_type": "code",
   "execution_count": 59,
   "metadata": {},
   "outputs": [],
   "source": [
    "df_total_final.to_csv('./nju_meta.csv',index=False)"
   ]
  },
  {
   "cell_type": "code",
   "execution_count": 61,
   "metadata": {},
   "outputs": [
    {
     "data": {
      "text/plain": [
       "High Valence    365\n",
       "Low Valence     283\n",
       "Name: valence, dtype: int64"
      ]
     },
     "execution_count": 61,
     "metadata": {},
     "output_type": "execute_result"
    }
   ],
   "source": [
    "df_total_final.valence.value_counts()"
   ]
  },
  {
   "cell_type": "code",
   "execution_count": 75,
   "metadata": {},
   "outputs": [],
   "source": [
    "df_happy = df_total_final[df_total_final.emotion=='Happy']\n",
    "df_sad = df_total_final[df_total_final.emotion == 'Sad']\n",
    "df_angry = df_total_final[df_total_final.emotion =='Angry']\n",
    "df_relaxed = df_total_final[df_total_final.emotion =='Relaxed']"
   ]
  },
  {
   "cell_type": "code",
   "execution_count": 85,
   "metadata": {},
   "outputs": [],
   "source": [
    "def split_set(df):\n",
    "    train_len = int(len(df)*0.8)\n",
    "    test_len = int(len(df)*0.1)\n",
    "    valid_len = len(df) - train_len - test_len\n",
    "    df_train = df.iloc[:train_len]\n",
    "    df_valid = df.iloc[train_len:train_len+valid_len]\n",
    "    df_test = df.iloc[-test_len:]\n",
    "    return df_train,df_valid,df_test"
   ]
  },
  {
   "cell_type": "code",
   "execution_count": 86,
   "metadata": {},
   "outputs": [],
   "source": [
    "train_happy,valid_happy,test_happy = split_set(df_happy)\n",
    "train_sad,valid_sad,test_sad = split_set(df_sad)\n",
    "train_relaxed,valid_relaxed,test_relaxed = split_set(df_relaxed)\n",
    "train_angry,valid_angry,test_angry = split_set(df_angry)"
   ]
  },
  {
   "cell_type": "code",
   "execution_count": 87,
   "metadata": {},
   "outputs": [],
   "source": [
    "train_final = pd.concat((train_happy,train_sad,train_angry,train_relaxed),axis = 0)\n",
    "valid_final = pd.concat((valid_happy,valid_sad,valid_angry,valid_relaxed),axis = 0)\n",
    "test_final = pd.concat((test_happy,test_sad,test_angry,test_relaxed),axis = 0)"
   ]
  },
  {
   "cell_type": "code",
   "execution_count": null,
   "metadata": {},
   "outputs": [],
   "source": [
    "train_final = train_final.sort_values(by='musicId')\n",
    "valid_final = valid_final.sort_values(by='musicId')\n",
    "test_final = test_final.sort_values(by='musicId')"
   ]
  },
  {
   "cell_type": "code",
   "execution_count": 88,
   "metadata": {},
   "outputs": [
    {
     "data": {
      "text/plain": [
       "648"
      ]
     },
     "execution_count": 88,
     "metadata": {},
     "output_type": "execute_result"
    }
   ],
   "source": [
    "len(train_final)+len(valid_final)+len(test_final)"
   ]
  },
  {
   "cell_type": "code",
   "execution_count": 89,
   "metadata": {},
   "outputs": [],
   "source": [
    "train_final.to_csv('NJU_MusicMood_v1.0/nju_train.csv',index = False)\n",
    "valid_final.to_csv('NJU_MusicMood_v1.0/nju_valid.csv',index = False)\n",
    "test_final.to_csv('NJU_MusicMood_v1.0/nju_test.csv',index = False)"
   ]
  }
 ],
 "metadata": {
  "kernelspec": {
   "display_name": "Python 3.8.8 ('base')",
   "language": "python",
   "name": "python3"
  },
  "language_info": {
   "codemirror_mode": {
    "name": "ipython",
    "version": 3
   },
   "file_extension": ".py",
   "mimetype": "text/x-python",
   "name": "python",
   "nbconvert_exporter": "python",
   "pygments_lexer": "ipython3",
   "version": "3.8.8"
  },
  "orig_nbformat": 4,
  "vscode": {
   "interpreter": {
    "hash": "cceb2fdb6d0d49712663a09c62496ac932ce62398c41e486b12dcc6178307130"
   }
  }
 },
 "nbformat": 4,
 "nbformat_minor": 2
}
